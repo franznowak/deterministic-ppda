{
 "cells": [
  {
   "cell_type": "markdown",
   "metadata": {},
   "source": [
    "## Example Usage"
   ]
  },
  {
   "cell_type": "code",
   "execution_count": 1,
   "metadata": {},
   "outputs": [],
   "source": [
    "from fractions import Fraction\n",
    "from ppda.base.symbol import Sym, BOT\n",
    "from ppda.base.string import String\n",
    "from ppda.ppda import PPDA, Action, Q_INIT, Q_FINAL"
   ]
  },
  {
   "cell_type": "markdown",
   "metadata": {},
   "source": [
    "First, create a new PPDA and add transitions to it. Make sure it is correctly normalized (the transition probabilities for a given state and top stack symbol add to 1)."
   ]
  },
  {
   "cell_type": "code",
   "execution_count": 2,
   "metadata": {},
   "outputs": [
    {
     "data": {
      "text/plain": [
       "True"
      ]
     },
     "execution_count": 2,
     "metadata": {},
     "output_type": "execute_result"
    }
   ],
   "source": [
    "ppda = PPDA()\n",
    "ppda.add(Q_INIT, BOT, Sym(\"a\"), Q_INIT, Action.NOOP, Sym(\"x\"), Fraction(1,1))\n",
    "ppda.add(Q_INIT, Sym(\"x\"), Sym(\"b\"), Q_INIT, Action.NOOP, Sym(\"x\"), Fraction(1,2))\n",
    "ppda.add(Q_INIT, Sym(\"x\"), Sym(\"c\"), Q_FINAL, Action.NOOP, Sym(\"y\"), Fraction(1,2))\n",
    "\n",
    "ppda.normalized"
   ]
  },
  {
   "cell_type": "markdown",
   "metadata": {},
   "source": [
    "You can now generate strings from it as follows:"
   ]
  },
  {
   "cell_type": "code",
   "execution_count": 3,
   "metadata": {},
   "outputs": [
    {
     "data": {
      "text/plain": [
       "('ac', Fraction(1, 2))"
      ]
     },
     "execution_count": 3,
     "metadata": {},
     "output_type": "execute_result"
    }
   ],
   "source": [
    "ppda.generate()"
   ]
  },
  {
   "cell_type": "code",
   "execution_count": 5,
   "metadata": {},
   "outputs": [
    {
     "data": {
      "text/plain": [
       "('abbc', Fraction(1, 8))"
      ]
     },
     "execution_count": 5,
     "metadata": {},
     "output_type": "execute_result"
    }
   ],
   "source": [
    "ppda.generate()"
   ]
  },
  {
   "cell_type": "markdown",
   "metadata": {},
   "source": [
    "You can also find the probability of a given string under the PPDA:"
   ]
  },
  {
   "cell_type": "code",
   "execution_count": 6,
   "metadata": {},
   "outputs": [
    {
     "data": {
      "text/plain": [
       "Fraction(1, 8)"
      ]
     },
     "execution_count": 6,
     "metadata": {},
     "output_type": "execute_result"
    }
   ],
   "source": [
    "ppda.accept(\"abbc\")"
   ]
  }
 ],
 "metadata": {
  "kernelspec": {
   "display_name": "venve",
   "language": "python",
   "name": "venve"
  },
  "language_info": {
   "codemirror_mode": {
    "name": "ipython",
    "version": 3
   },
   "file_extension": ".py",
   "mimetype": "text/x-python",
   "name": "python",
   "nbconvert_exporter": "python",
   "pygments_lexer": "ipython3",
   "version": "3.9.7"
  },
  "orig_nbformat": 4
 },
 "nbformat": 4,
 "nbformat_minor": 2
}
